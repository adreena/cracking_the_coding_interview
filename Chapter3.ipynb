{
 "cells": [
  {
   "cell_type": "markdown",
   "metadata": {},
   "source": [
    "## P1: Three in one\n",
    "\n",
    "Describe how could you use a single array to implement three stacks "
   ]
  },
  {
   "cell_type": "code",
   "execution_count": null,
   "metadata": {},
   "outputs": [],
   "source": []
  },
  {
   "cell_type": "markdown",
   "metadata": {},
   "source": [
    "## P2: Stack min\n",
    "\n",
    "How would you design a stack which, in addition to push and pop, has a function min which returns the minimum element? in O(1) time"
   ]
  },
  {
   "cell_type": "code",
   "execution_count": null,
   "metadata": {},
   "outputs": [],
   "source": []
  },
  {
   "cell_type": "markdown",
   "metadata": {},
   "source": [
    "## P3: Stack of Plates\n",
    "\n",
    "Imagine a stack of plates. if the stack gets too high, it might topple. Therefore, in real life, we would likely start a new stack when the previous stack exceeds some threshold. Implement a data structure SetOfStacks that mimics this.\n",
    "\n",
    "SetOfStacks should be composed of several stacks and should create a new stack once the previous one exceeds capacity. Push and Pop should behave identically to  single stack.\n",
    "\n",
    "Implement a function PopAt(index) which performs a pop operation on a specific sub-stack"
   ]
  },
  {
   "cell_type": "code",
   "execution_count": null,
   "metadata": {},
   "outputs": [],
   "source": []
  },
  {
   "cell_type": "markdown",
   "metadata": {},
   "source": [
    "## P4: Queue via Stacks\n",
    "\n",
    "Implement a MyQueue class which implments a queue using 2 stacks"
   ]
  },
  {
   "cell_type": "code",
   "execution_count": null,
   "metadata": {},
   "outputs": [],
   "source": []
  },
  {
   "cell_type": "markdown",
   "metadata": {},
   "source": [
    "## P5: Sort Stack\n",
    "\n",
    "Write a program to sort a stack such that the smallest items are on the top. You can use an additional temporary stack, but you may not coppy elements into any other data structure such as an array. The stack support the following operations: push, pop, peek, isEmpty"
   ]
  },
  {
   "cell_type": "code",
   "execution_count": null,
   "metadata": {},
   "outputs": [],
   "source": []
  },
  {
   "cell_type": "markdown",
   "metadata": {},
   "source": [
    "## P6: Animal Shelter\n",
    "\n",
    "An animal shelter , which holds only dogs and cats, operates on strictly \"first in, first out\" basis. People must adopt either the \"oldest\" based on arrival time of all animals at the shelter or they can select whether they would preer a dog or a cat (and will receive the oldest animal of that type). they cannot select which specific animal they would like. Create a data structure to maintain this system and implement operations such as enqueu, dequeueAny, dequeueDog and dequeueCat. You may use the built in linked-list data structure"
   ]
  },
  {
   "cell_type": "code",
   "execution_count": null,
   "metadata": {},
   "outputs": [],
   "source": []
  }
 ],
 "metadata": {
  "kernelspec": {
   "display_name": "Python 3",
   "language": "python",
   "name": "python3"
  },
  "language_info": {
   "codemirror_mode": {
    "name": "ipython",
    "version": 3
   },
   "file_extension": ".py",
   "mimetype": "text/x-python",
   "name": "python",
   "nbconvert_exporter": "python",
   "pygments_lexer": "ipython3",
   "version": "3.6.8"
  }
 },
 "nbformat": 4,
 "nbformat_minor": 2
}
