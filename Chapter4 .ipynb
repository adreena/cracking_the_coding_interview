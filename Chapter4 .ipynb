{
 "cells": [
  {
   "cell_type": "code",
   "execution_count": 50,
   "metadata": {},
   "outputs": [
    {
     "name": "stdout",
     "output_type": "stream",
     "text": [
      "['a', 'c', 'd', 'e']\n",
      "['a', 'b', 'c', 'd', 'e']\n"
     ]
    }
   ],
   "source": [
    "class Node:\n",
    "    def __init__(self, data):\n",
    "        self.data = data\n",
    "        self.next = None\n",
    "#-------------------------------\n",
    "class Stack:\n",
    "    def __init__(self):\n",
    "        self.top = None\n",
    "    \n",
    "    def is_empty(self):\n",
    "        if self.top is None:\n",
    "            return True\n",
    "        else:\n",
    "            return False\n",
    "    def push(self, new_value):\n",
    "        new_node = Node(new_value)\n",
    "        if self.is_empty():\n",
    "            self.top = new_node\n",
    "        else:\n",
    "            new_node.next = self.top\n",
    "            self.top = new_node\n",
    "            \n",
    "    def pop(self):\n",
    "        if self.is_empty():\n",
    "            return None\n",
    "        else:\n",
    "            data = self.top.data\n",
    "            self.top = self.top.next\n",
    "            return data\n",
    "        \n",
    "class Queue:\n",
    "    def __init__(self):\n",
    "        self.first= None\n",
    "        self.last = None\n",
    "        \n",
    "    def is_empty(self):\n",
    "        if self.first is None:\n",
    "            return True\n",
    "        else:\n",
    "            return False\n",
    "        \n",
    "    def add(self, new_value):\n",
    "        new_node = Node(new_value)\n",
    "        if self.first is None:\n",
    "            self.first = new_node\n",
    "            self.last = new_node\n",
    "        else:\n",
    "            self.last.next = new_node\n",
    "            self.last = self.last.next\n",
    "    \n",
    "    def remove(self):\n",
    "        if self.is_empty():\n",
    "            return None\n",
    "        else:\n",
    "            data = self.first.data\n",
    "            self.first = self.first.next\n",
    "            if self.first is None:\n",
    "                self.last = None\n",
    "            return data\n",
    "#-------------------------------\n",
    "class Graph:\n",
    "    def __init__(self, elements):\n",
    "        self.elements = elements\n",
    "    \n",
    "    def get_all_vertices(self):\n",
    "        return list(self.elements.keys())\n",
    "    \n",
    "    def get_adjacent_verts(self, vertex):\n",
    "        if vertex not in self.get_all_vertices():\n",
    "            return None\n",
    "        else:\n",
    "            return self.elements[vertex]\n",
    "    \n",
    "    def dfs_search(self, start, target):\n",
    "        all_vertices = self.get_all_vertices()\n",
    "        if start not in all_vertices:\n",
    "            return None\n",
    "        visited = []\n",
    "        path = []\n",
    "        stack = Stack()\n",
    "        stack.push(start)\n",
    "        reached_target = False\n",
    "        while not stack.is_empty() and not reached_target:\n",
    "            current_vert = stack.pop()\n",
    "            path.append(current_vert)\n",
    "            if current_vert == target:\n",
    "                reached_target = True\n",
    "            visited.append(current_vert)\n",
    "            adj_verts = self.get_adjacent_verts(current_vert)\n",
    "            for v in adj_verts:\n",
    "                if v not in visited:\n",
    "                    stack.push(v)\n",
    "        return path\n",
    "    \n",
    "    def bfs_search(self, start):\n",
    "        all_verts = self.get_all_vertices()\n",
    "        visited = {key:False for key in all_verts}\n",
    "        queue = Queue()\n",
    "        queue.add(start)\n",
    "        visited[start] = True\n",
    "        path = [start]\n",
    "        while not queue.is_empty():\n",
    "            vert = queue.remove()\n",
    "            adj_verts = self.get_adjacent_verts(vert)\n",
    "            for adj_ver in adj_verts:\n",
    "                if not visited[adj_ver]:\n",
    "                    path.append(adj_ver)\n",
    "                    queue.add(adj_ver)\n",
    "                    visited[adj_ver]= True\n",
    "        return path\n",
    "            \n",
    "directed_graph_elements = { \"a\" : [\"b\",\"c\"],\n",
    "                \"b\" : [\"a\", \"d\"],\n",
    "                \"c\" : [\"a\", \"d\"],\n",
    "                \"d\" : [\"e\"],\n",
    "                \"e\" : [\"d\"]\n",
    "                }\n",
    "\n",
    "undirected_graph_test = Graph(directed_graph_elements)\n",
    "print(undirected_graph_test.dfs_search('a', 'e'))\n",
    "print(undirected_graph_test.bfs_search('a'))"
   ]
  },
  {
   "cell_type": "markdown",
   "metadata": {},
   "source": [
    "## P1: Route between nodes\n",
    "\n",
    "given a directed graph, desing an algorithm to find out whether there is a route between 2 nodes"
   ]
  },
  {
   "cell_type": "code",
   "execution_count": 55,
   "metadata": {},
   "outputs": [
    {
     "name": "stdout",
     "output_type": "stream",
     "text": [
      "{'a': False, 'b': False, 'c': False, 'd': True, 'e': True}\n",
      "False\n"
     ]
    }
   ],
   "source": [
    "\n",
    "def route_between_nodes(graph_dict, node1, node2):\n",
    "    graph = Graph(graph_dict)\n",
    "    verts = graph.get_all_vertices()\n",
    "    # shortest path:\n",
    "    q = Queue()\n",
    "    q.add(node1)\n",
    "    \n",
    "    visited = {key:False for key in verts}\n",
    "    while not q.is_empty():\n",
    "        current_vert = q.remove()\n",
    "        adj_verts = graph.get_adjacent_verts(current_vert)\n",
    "        for v in adj_verts:\n",
    "            if not visited[v]:\n",
    "                visited[v] = True\n",
    "                if v == node2:\n",
    "                    break\n",
    "                q.add(v)\n",
    "    print(visited)\n",
    "    return visited[node2]\n",
    "\n",
    "test = { \"a\" : [\"b\",\"c\"],\n",
    "                \"b\" : [\"d\"],\n",
    "                \"c\" : [\"a\", \"d\"],\n",
    "                \"d\" : [\"e\"],\n",
    "                \"e\" : [\"d\"]\n",
    "                }\n",
    "print(route_between_nodes(test, \"e\", \"a\"))"
   ]
  },
  {
   "cell_type": "markdown",
   "metadata": {},
   "source": [
    "## P2: Minimal Tree\n",
    "\n",
    "Given a sorted (increasing order) array with unique integer elements, write an algorithm to create a binary search tree with minimal height"
   ]
  },
  {
   "cell_type": "code",
   "execution_count": 73,
   "metadata": {},
   "outputs": [],
   "source": [
    "class Tree_Node:\n",
    "    def __init__(self, data, left=None, right=None):\n",
    "        self.data = data\n",
    "        self.left = left\n",
    "        self.right = right\n",
    "        \n",
    "class BST:\n",
    "    def __init__(self):\n",
    "        self.root = None\n",
    "        \n",
    "    def insert(self, data):\n",
    "        new_node = Tree_Node(data=data)\n",
    "        if self.root is None:\n",
    "            self.root = new_node\n",
    "        else:\n",
    "            if data <  self.root.data:\n",
    "                if self.root.left is None:\n",
    "                    self.root.left = BST()\n",
    "                self.root.left.insert(data)\n",
    "            else:\n",
    "                if self.root.right is None:\n",
    "                    self.root.right = BST()\n",
    "                self.root.right.insert(data)\n",
    "                \n",
    "    def find(self, val):\n",
    "        if self.root is None:\n",
    "            print('Not Found')\n",
    "            return False\n",
    "        else:\n",
    "            if val == self.root.data:\n",
    "                print('Found')\n",
    "                return True\n",
    "            else:\n",
    "                if val < self.root.data:\n",
    "                    print('left', val, self.root.data)\n",
    "                    if self.root.left is None:\n",
    "                        print('Not Found')\n",
    "                        return False\n",
    "                    self.root.left.find(val)\n",
    "                else:\n",
    "                    print('right', val, self.root.data)\n",
    "                    if self.root.right is None:\n",
    "                        print('Not Found')\n",
    "                        return False\n",
    "                    self.root.right.find(val)\n",
    "\n",
    "def minimal_tree(input_list):\n",
    "    mid_list = int(len(input_list)/2)\n",
    "    while mid_list >= 0 :\n",
    "        root = input_list[mid_list]\n",
    "        left = input_list[0:mid_list]\n",
    "        if len(left) >=1:\n",
    "            root.left = minimal_tree(left)\n",
    "        else:\n",
    "            root.left = None\n",
    "        if mid_list+1 < len(input_list):\n",
    "            right = input_list[mid_list+1:]\n",
    "            root.right = minimal_tree(right)\n",
    "        else:\n",
    "            root.right = None\n",
    "input_list = [1,2,3,4,5]\n"
   ]
  },
  {
   "cell_type": "markdown",
   "metadata": {},
   "source": [
    "## P3: List of Depths\n",
    "\n",
    "Given a binary, design an algorithm which creates a linked list of all the nodes at each depth. (e.g. if you have a tree with depth D, you'll have D linked lists)"
   ]
  },
  {
   "cell_type": "code",
   "execution_count": 78,
   "metadata": {},
   "outputs": [
    {
     "name": "stdout",
     "output_type": "stream",
     "text": [
      "a\n",
      "***\n",
      "a\n",
      "***\n",
      "b\n",
      "c\n",
      "***\n",
      "d\n",
      "e\n",
      "f\n",
      "***\n"
     ]
    }
   ],
   "source": [
    "class BNode:\n",
    "    def __init__(self, val):\n",
    "        self.value = val\n",
    "        self.left = None\n",
    "        self.right = None\n",
    "        \n",
    "class LNode:\n",
    "    def __init__(Self, val):\n",
    "        self.value = val\n",
    "        self.next = None\n",
    "        \n",
    "def list_of_depths(root):\n",
    "    \n",
    "    current_list = [root]\n",
    "    lists = [current_list]\n",
    "    while len(current_list) > 0:\n",
    "        lists.append(current_list)\n",
    "        next_list = []\n",
    "        for node in current_list:\n",
    "            if node.left is not None:\n",
    "                next_list.append(node.left)\n",
    "            if node.right is not None:\n",
    "                next_list.append(node.right)\n",
    "        current_list = next_list\n",
    "    return lists\n",
    "    \n",
    "\n",
    "root = BNode('a')\n",
    "root.left = BNode('b')\n",
    "root.right = BNode('c')\n",
    "root.left.right = BNode('d')\n",
    "root.right.left = BNode('e')\n",
    "root.right.right = BNode('f')\n",
    "lists = list_of_depths(root)\n",
    "for l in lists:\n",
    "    for i in l:\n",
    "        print(i.value)\n",
    "    print('***')"
   ]
  },
  {
   "cell_type": "markdown",
   "metadata": {},
   "source": [
    "## P4: Check Balanced\n",
    "\n",
    "Implement a function to check if a binary tree is balanced. For the purpose of this question, a balanced tree is defined to be a tree such that the heights of the 2 subtrees of any node never differ by more than one"
   ]
  },
  {
   "cell_type": "code",
   "execution_count": 86,
   "metadata": {},
   "outputs": [
    {
     "name": "stdout",
     "output_type": "stream",
     "text": [
      "3\n",
      "True\n"
     ]
    }
   ],
   "source": [
    "class TNode:\n",
    "    def __init__(self, val):\n",
    "        self.value = val\n",
    "        self.left = None\n",
    "        self.right = None\n",
    "      \n",
    "def get_depth(node, current_depth=0):\n",
    "    if node is None:\n",
    "        return 0\n",
    "    else:\n",
    "        return max(get_depth(node.left), get_depth(node.right)) +1\n",
    "def check_balanced(root):\n",
    "    if root is None:\n",
    "        return True\n",
    "    else:\n",
    "        left_depth = get_depth(root.left)\n",
    "        right_depth = get_depth(root.right)\n",
    "        if left_depth != right_depth:\n",
    "            return False\n",
    "        else:\n",
    "            return (check_balanced(root.left) and check_balanced(root.right))\n",
    "\n",
    "root = BNode('a')\n",
    "root.left = BNode('b')\n",
    "root.right = BNode('c')\n",
    "root.left.right = BNode('d')\n",
    "root.left.left = BNode('g')\n",
    "root.right.left = BNode('e')\n",
    "root.right.right = BNode('f')\n",
    "print(get_depth(root))\n",
    "print(check_balanced(root))"
   ]
  },
  {
   "cell_type": "markdown",
   "metadata": {},
   "source": [
    "## P5: Validate BST\n",
    "\n",
    "Implement a function to check if a binary tree is binary search tree"
   ]
  },
  {
   "cell_type": "code",
   "execution_count": 95,
   "metadata": {},
   "outputs": [
    {
     "name": "stdout",
     "output_type": "stream",
     "text": [
      "False\n"
     ]
    }
   ],
   "source": [
    "class BNode:\n",
    "    def __init__(self, value):\n",
    "        self.value = value\n",
    "        self.left = None\n",
    "        self.right = None\n",
    "        \n",
    "def check_bst(root):\n",
    "    if root is None:\n",
    "        return True\n",
    "    else:\n",
    "        if root.left is not None:\n",
    "            if root.left.value >= root.value:\n",
    "                return False\n",
    "        if root.right is not None:\n",
    "            if root.right.value <= root.value:\n",
    "                return False\n",
    "        if not check_bst(root.left):\n",
    "            return False\n",
    "        if not check_bst(root.right):\n",
    "            return False\n",
    "        return True\n",
    "root = BNode(5)\n",
    "root.left = BNode(3)\n",
    "root.right = BNode(9)\n",
    "root.left.right = BNode(4)\n",
    "root.left.left = BNode(2)\n",
    "root.right.right = BNode(8)\n",
    "print(check_bst(root))"
   ]
  },
  {
   "cell_type": "markdown",
   "metadata": {},
   "source": [
    "## P6: Successor\n",
    "\n",
    "Write an algorithm to find the \"next\" node (i.e. in-order successor) of a given node in binary seach tree. you may assume that each node has a link to its parent."
   ]
  },
  {
   "cell_type": "code",
   "execution_count": null,
   "metadata": {},
   "outputs": [],
   "source": []
  },
  {
   "cell_type": "markdown",
   "metadata": {},
   "source": [
    "## P7: Build Order\n",
    "\n",
    "You are given a list of projects and a list of dependencies (which is a lisr of pairs of projects, where the 1st project is dependent on the 2nd project). all of a project's dependencies must be built before the project is. find a build order that will allow the projects to be built. if there is no valid build order, return an error.\n",
    "\n",
    "Example:\n",
    "\n",
    "Input: projects: a, b, c, d, e, f dependencies: (d,a), (b,f), (d,b), (a, f), (c,d)\n",
    "\n",
    "Output: f,e,a,b,d,c"
   ]
  },
  {
   "cell_type": "code",
   "execution_count": null,
   "metadata": {},
   "outputs": [],
   "source": []
  },
  {
   "cell_type": "markdown",
   "metadata": {},
   "source": [
    "## P8: First Common Ancestor\n",
    "\n",
    "Design an algorithm and write code to find the first common ancestor of 2 nodes in a binary tree. Avoid storing additional nodes in a data structure. Note: This is not necessarily a binary search tree"
   ]
  },
  {
   "cell_type": "code",
   "execution_count": null,
   "metadata": {},
   "outputs": [],
   "source": []
  },
  {
   "cell_type": "markdown",
   "metadata": {},
   "source": [
    "## P9: BST Sequences\n",
    "\n",
    "A binary search tree was created by traversing through an array from left to right and inserting each element. Given a binary search tree with distinct elements, print all oissible arrays that could have lef to this tree"
   ]
  },
  {
   "cell_type": "code",
   "execution_count": null,
   "metadata": {},
   "outputs": [],
   "source": []
  },
  {
   "cell_type": "markdown",
   "metadata": {},
   "source": [
    "## P10: Check Subtree\n",
    "\n",
    "T1 and T2 are 2 very large binary trees, with T1 much bigger than T2. Create an algorithm to determine T2 is a subtree of T1.\n",
    "\n",
    "A tree T2 is a subtree of T1 if there exists a node n in T1 such that the subtree of n is identical to T2. That is, if you cut off the tree at node n the 2 trees should be identical"
   ]
  },
  {
   "cell_type": "code",
   "execution_count": null,
   "metadata": {},
   "outputs": [],
   "source": []
  },
  {
   "cell_type": "markdown",
   "metadata": {},
   "source": [
    "## P11: Random Node\n",
    "\n",
    "You are implementing a binary tree class from scratch which, in addition to inser, find and delete has a method getRandomNode() which returns a random node from the tree. All nodes should be equally likely to be chosen. Design and implement an algorithm for getRandomNode(), and explain how you would implement sthe rest of the methods"
   ]
  },
  {
   "cell_type": "code",
   "execution_count": null,
   "metadata": {},
   "outputs": [],
   "source": []
  },
  {
   "cell_type": "markdown",
   "metadata": {},
   "source": [
    "## P12: Paths with Sum\n",
    "\n",
    "You are given a binary tree in which each node contains an integer value ( which might be positive or negative). Design an algorithm to count the number of paths that sum to given value. The path does not need to start or end at the root or a leaf, but it must grow downwards ( travelling only from parent nodes to child nodes)"
   ]
  },
  {
   "cell_type": "code",
   "execution_count": null,
   "metadata": {},
   "outputs": [],
   "source": []
  }
 ],
 "metadata": {
  "kernelspec": {
   "display_name": "Python 3",
   "language": "python",
   "name": "python3"
  },
  "language_info": {
   "codemirror_mode": {
    "name": "ipython",
    "version": 3
   },
   "file_extension": ".py",
   "mimetype": "text/x-python",
   "name": "python",
   "nbconvert_exporter": "python",
   "pygments_lexer": "ipython3",
   "version": "3.6.8"
  }
 },
 "nbformat": 4,
 "nbformat_minor": 2
}
