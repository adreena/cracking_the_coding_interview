{
 "cells": [
  {
   "cell_type": "markdown",
   "metadata": {},
   "source": [
    "## P1: Route between nodes\n",
    "\n",
    "given a directed graph, desing an algorithm to find out whether there is a route between 2 nodes"
   ]
  },
  {
   "cell_type": "code",
   "execution_count": null,
   "metadata": {},
   "outputs": [],
   "source": []
  },
  {
   "cell_type": "markdown",
   "metadata": {},
   "source": [
    "## P2: Minimal Tree\n",
    "\n",
    "Given a sorted (increasing order) array with unique integer elements, write an algorithm to create a binary search tree with minimal height"
   ]
  },
  {
   "cell_type": "code",
   "execution_count": null,
   "metadata": {},
   "outputs": [],
   "source": []
  },
  {
   "cell_type": "markdown",
   "metadata": {},
   "source": [
    "## P3: List of Depths\n",
    "\n",
    "Given a binary, design an algorithm which creates a linked list of all the nodes at each depth. (e.g. if you have a tree with depth D, you'll have D linked lists)"
   ]
  },
  {
   "cell_type": "code",
   "execution_count": null,
   "metadata": {},
   "outputs": [],
   "source": []
  },
  {
   "cell_type": "markdown",
   "metadata": {},
   "source": [
    "## P4: Check Balanced\n",
    "\n",
    "Implement a function to check if a binary tree is balanced. For the purpose of this question, a balanced tree is defined to be a tree such that the heights of the 2 subtrees of any node never differ by more than one"
   ]
  },
  {
   "cell_type": "code",
   "execution_count": null,
   "metadata": {},
   "outputs": [],
   "source": []
  },
  {
   "cell_type": "markdown",
   "metadata": {},
   "source": [
    "## P5: Validate BST\n",
    "\n",
    "Implement a function to check if a binary tree is binary search tree"
   ]
  },
  {
   "cell_type": "code",
   "execution_count": null,
   "metadata": {},
   "outputs": [],
   "source": []
  },
  {
   "cell_type": "markdown",
   "metadata": {},
   "source": [
    "## P6: Successor\n",
    "\n",
    "Write an algorithm to find the \"next\" node (i.e. in-order successor) of a given node in binary seach tree. you may assume that each node has a link to its parent."
   ]
  },
  {
   "cell_type": "code",
   "execution_count": null,
   "metadata": {},
   "outputs": [],
   "source": []
  },
  {
   "cell_type": "markdown",
   "metadata": {},
   "source": [
    "## P7: Build Order\n",
    "\n",
    "You are given a list of projects and a list of dependencies (which is a lisr of pairs of projects, where the 1st project is dependent on the 2nd project). all of a project's dependencies must be built before the project is. find a build order that will allow the projects to be built. if there is no valid build order, return an error.\n",
    "\n",
    "Example:\n",
    "\n",
    "Input: projects: a, b, c, d, e, f dependencies: (d,a), (b,f), (d,b), (a, f), (c,d)\n",
    "\n",
    "Output: f,e,a,b,d,c"
   ]
  },
  {
   "cell_type": "code",
   "execution_count": null,
   "metadata": {},
   "outputs": [],
   "source": []
  },
  {
   "cell_type": "markdown",
   "metadata": {},
   "source": [
    "## P8: First Common Ancestor\n",
    "\n",
    "Design an algorithm and write code to find the first common ancestor of 2 nodes in a binary tree. Avoid storing additional nodes in a data structure. Note: This is not necessarily a binary search tree"
   ]
  },
  {
   "cell_type": "code",
   "execution_count": null,
   "metadata": {},
   "outputs": [],
   "source": []
  },
  {
   "cell_type": "markdown",
   "metadata": {},
   "source": [
    "## P9: BST Sequences\n",
    "\n",
    "A binary search tree was created by traversing through an array from left to right and inserting each element. Given a binary search tree with distinct elements, print all oissible arrays that could have lef to this tree"
   ]
  },
  {
   "cell_type": "code",
   "execution_count": null,
   "metadata": {},
   "outputs": [],
   "source": []
  },
  {
   "cell_type": "markdown",
   "metadata": {},
   "source": [
    "## P10: Check Subtree\n",
    "\n",
    "T1 and T2 are 2 very large binary trees, with T1 much bigger than T2. Create an algorithm to determine T2 is a subtree of T1.\n",
    "\n",
    "A tree T2 is a subtree of T1 if there exists a node n in T1 such that the subtree of n is identical to T2. That is, if you cut off the tree at node n the 2 trees should be identical"
   ]
  },
  {
   "cell_type": "code",
   "execution_count": null,
   "metadata": {},
   "outputs": [],
   "source": []
  },
  {
   "cell_type": "markdown",
   "metadata": {},
   "source": [
    "## P11: Random Node\n",
    "\n",
    "You are implementing a binary tree class from scratch which, in addition to inser, find and delete has a method getRandomNode() which returns a random node from the tree. All nodes should be equally likely to be chosen. Design and implement an algorithm for getRandomNode(), and explain how you would implement sthe rest of the methods"
   ]
  },
  {
   "cell_type": "code",
   "execution_count": null,
   "metadata": {},
   "outputs": [],
   "source": []
  },
  {
   "cell_type": "markdown",
   "metadata": {},
   "source": [
    "## P12: Paths with Sum\n",
    "\n",
    "You are given a binary tree in which each node contains an integer value ( which might be positive or negative). Design an algorithm to count the number of paths that sum to given value. The path does not need to start or end at the root or a leaf, but it must grow downwards ( travelling only from parent nodes to child nodes)"
   ]
  },
  {
   "cell_type": "code",
   "execution_count": null,
   "metadata": {},
   "outputs": [],
   "source": []
  }
 ],
 "metadata": {
  "kernelspec": {
   "display_name": "Python 3",
   "language": "python",
   "name": "python3"
  },
  "language_info": {
   "codemirror_mode": {
    "name": "ipython",
    "version": 3
   },
   "file_extension": ".py",
   "mimetype": "text/x-python",
   "name": "python",
   "nbconvert_exporter": "python",
   "pygments_lexer": "ipython3",
   "version": "3.6.8"
  }
 },
 "nbformat": 4,
 "nbformat_minor": 2
}
