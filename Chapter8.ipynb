{
 "cells": [
  {
   "cell_type": "markdown",
   "metadata": {},
   "source": [
    "## P1: Triple Step\n",
    "\n",
    "A child is running up a staircase with n steps and can hop either 1 step, 2 step or 3steps at a time. Implement a method to count how many possible ways the child can run up the stairs"
   ]
  },
  {
   "cell_type": "code",
   "execution_count": 9,
   "metadata": {},
   "outputs": [
    {
     "name": "stdout",
     "output_type": "stream",
     "text": [
      "24\n",
      "{0: None, 1: 1, 2: 2, 3: 4, 4: 7, 5: 13, 6: 24}\n"
     ]
    }
   ],
   "source": [
    "def count_steps(n, cache):\n",
    "    if n<0:\n",
    "        return 0\n",
    "    elif n == 0 :\n",
    "        return 1\n",
    "    elif cache[n] is not None:\n",
    "        return cache[n]\n",
    "    else:\n",
    "        cache[n] = count_steps(n-3, cache) + count_steps(n-2, cache) + count_steps(n-1, cache)\n",
    "    return cache[n]\n",
    "\n",
    "# steps = [1,2,3]\n",
    "n = 6\n",
    "cache = {key:None for key in range(n+1)}\n",
    "print(count_steps(n, cache))\n",
    "print(cache)"
   ]
  },
  {
   "cell_type": "markdown",
   "metadata": {},
   "source": [
    "## P2: Robot in a grid\n",
    "\n",
    "Imagine a robot sitting on the upper left corner of a grid with r rows and c columns. the robot can only move in 2 directions, right and down, but sertain cells are \"off limits\" such that the robot cannot step on them. Design an algorithm to find a path for the robot from the top to the bottom right."
   ]
  },
  {
   "cell_type": "code",
   "execution_count": 18,
   "metadata": {},
   "outputs": [
    {
     "name": "stdout",
     "output_type": "stream",
     "text": [
      "[(0, 0), (0, 1), (0, 2), (1, 2), (1, 3), (2, 3), (3, 3)]\n"
     ]
    }
   ],
   "source": [
    "end = (0, 0)\n",
    "def robot_in_grid(grid, row_id, col_id, path, blocked_points):\n",
    "    if row_id <0 or col_id<0 or grid[row_id][col_id] == 1:\n",
    "        return False\n",
    "    point = (row_id, col_id)\n",
    "    if point in blocked_points:\n",
    "        return False\n",
    "    if point == end or robot_in_grid(grid, row_id - 1, col_id, path, blocked_points) or \\\n",
    "        robot_in_grid(grid, row_id, col_id -1 , path, blocked_points):\n",
    "        path.append(point)\n",
    "        return True\n",
    "    blocked_points.append(point)\n",
    "    return False\n",
    "\n",
    "grid = [[0, 0, 0, 1],\n",
    "        [1, 0, 0, 0],\n",
    "        [0, 0, 0, 0],\n",
    "        [1, 0, 0, 0]]\n",
    "path = []\n",
    "robot_in_grid(grid, 3,3, path, [])\n",
    "print(path)"
   ]
  },
  {
   "cell_type": "markdown",
   "metadata": {},
   "source": [
    "## P3: Magic Index\n",
    "\n",
    "A magic index in an array A[0...n-1] is defined to be an index such that A[i]=i. Given a sorted array of distinct integers, write a method to find a magic index, if one exists, in array A. (What if values are not distinct?)"
   ]
  },
  {
   "cell_type": "code",
   "execution_count": null,
   "metadata": {},
   "outputs": [],
   "source": []
  },
  {
   "cell_type": "markdown",
   "metadata": {},
   "source": [
    "## P4: Power Set\n",
    "\n",
    "Write a method to return all subsets of a set"
   ]
  },
  {
   "cell_type": "code",
   "execution_count": 27,
   "metadata": {},
   "outputs": [
    {
     "name": "stdout",
     "output_type": "stream",
     "text": [
      "[[], [1], [2], [1, 2], [3], [1, 3], [2, 3], [1, 2, 3]]\n"
     ]
    }
   ],
   "source": [
    "import copy\n",
    "def power_set(items, result, idx):\n",
    "    if idx == -1:\n",
    "        result.append([])\n",
    "    else:\n",
    "        power_set(items, result, idx-1)\n",
    "        temp_subsets = copy.deepcopy(result)\n",
    "        for s in temp_subsets:\n",
    "            s.append(items[idx])\n",
    "        result.extend(temp_subsets)\n",
    "\n",
    "result = []\n",
    "items = [1,2,3]\n",
    "power_set(items, result, len(items)-1)\n",
    "print(result)\n",
    "    "
   ]
  },
  {
   "cell_type": "markdown",
   "metadata": {},
   "source": [
    "## P5: Recursive Multiply\n",
    "\n",
    "Write a recursive function to multiply 2 numbers without using the * operator. You can use addition, subtraction and bit shifting, but you should minimize the number of those operations."
   ]
  },
  {
   "cell_type": "code",
   "execution_count": 31,
   "metadata": {},
   "outputs": [
    {
     "name": "stdout",
     "output_type": "stream",
     "text": [
      "2 8\n",
      "8 2\n",
      "8 1\n",
      "16\n"
     ]
    }
   ],
   "source": [
    "def recursive_multiple(x, y):\n",
    "    if y == 0 :\n",
    "        return 0\n",
    "    print(x,y)\n",
    "    if x < y :\n",
    "        return recursive_multiple(y, x)\n",
    "    else:\n",
    "        return x + recursive_multiple(x, y-1)\n",
    "    \n",
    "print(recursive_multiple(2,8))"
   ]
  },
  {
   "cell_type": "markdown",
   "metadata": {},
   "source": [
    "## P6: Tower of Hanoi\n",
    "\n",
    "In the classic problem of the Towers of Hanoi, you have 3 towers and N disks of different sizes which can slide onto any tower. The puzzle starts with disks sorted in ascending order of size from top to bottom (i.e. each disk sits on top of an even larger one). You have the following constraints:\n",
    "* Only one disk can be moved at a time\n",
    "* A disk is slid off the top of one tower onto the next tower\n",
    "* A disk can only be placed on top of a larger dist\n",
    "\n",
    "Write a program to move the disks from the 1st tower to the last using stacks"
   ]
  },
  {
   "cell_type": "code",
   "execution_count": 97,
   "metadata": {},
   "outputs": [
    {
     "name": "stdout",
     "output_type": "stream",
     "text": [
      "moving A to B\n",
      "moving A to C\n",
      "moving B to C\n",
      "moving A to B\n",
      "moving C to A\n",
      "moving C to B\n",
      "moving A to B\n"
     ]
    }
   ],
   "source": [
    "def hanoi(height, from_pole, to_pole, with_pole):\n",
    "    if height > 1:\n",
    "        hanoi(height-1 , from_pole, with_pole, to_pole)\n",
    "        move_disk(from_pole, to_pole)\n",
    "        hanoi(height-1, with_pole, to_pole, from_pole)\n",
    "def move_disk(a, b):\n",
    "    print('moving {} to {}'.format(a, b))\n",
    "    \n",
    "hanoi(4, 'A', 'B', 'C')"
   ]
  },
  {
   "cell_type": "markdown",
   "metadata": {},
   "source": [
    "## P7: Permutations without Dups\n",
    "\n",
    "Write a method to compute all permutations of a string of unique characters"
   ]
  },
  {
   "cell_type": "code",
   "execution_count": 59,
   "metadata": {},
   "outputs": [
    {
     "name": "stdout",
     "output_type": "stream",
     "text": [
      "['123', '132', '213', '231', '312', '321']\n"
     ]
    }
   ],
   "source": [
    "def perms_without_dups(prefix, remainder, result):\n",
    "    if len(remainder) == 0:\n",
    "        result.append(prefix)\n",
    "    else:\n",
    "        lenght = len(remainder)\n",
    "        for i in range(lenght):\n",
    "            char = remainder[i]\n",
    "            before = remainder[:i]\n",
    "            after = remainder[i+1:]\n",
    "            perms_without_dups(prefix+char, before+after, result)\n",
    "result = []\n",
    "perms_without_dups(\"\", \"123\", result)\n",
    "print(result)"
   ]
  },
  {
   "cell_type": "markdown",
   "metadata": {},
   "source": [
    "## P8: Permutations with Dups\n",
    "\n",
    "Write a method to compute all permutations of a string whose characters are not necessarily unique. The list of permutations should not have duplicates."
   ]
  },
  {
   "cell_type": "code",
   "execution_count": 60,
   "metadata": {},
   "outputs": [
    {
     "name": "stdout",
     "output_type": "stream",
     "text": [
      "['112', '121', '211']\n"
     ]
    }
   ],
   "source": [
    "def perms_with_dups(prefix, remainder_len, result, counts):\n",
    "    if remainder_len == 0:\n",
    "        return result.append(prefix)\n",
    "    else:\n",
    "        for char in counts.keys():\n",
    "            count = counts[char]\n",
    "            if count > 0:\n",
    "                counts[char]-=1\n",
    "                perms_with_dups(prefix+char, remainder_len-1, result, counts)\n",
    "                counts[char] = count\n",
    "    \n",
    "test = \"121\"\n",
    "result = []\n",
    "perms_with_dups(\"\", len(test), result, {\"1\":2, \"2\":1})\n",
    "print(result)"
   ]
  },
  {
   "cell_type": "markdown",
   "metadata": {},
   "source": [
    "## P9: Parens\n",
    "\n",
    "Implement an algorithm to print all valid of n pairs of parantheses.\n",
    "\n",
    "Input: 3\n",
    "\n",
    "Output: ((())), (()()), (())(), ()(()), ()()()"
   ]
  },
  {
   "cell_type": "code",
   "execution_count": 46,
   "metadata": {},
   "outputs": [
    {
     "name": "stdout",
     "output_type": "stream",
     "text": [
      "['', '', '', '', '', '']\n",
      "()()()\n",
      "()(())\n",
      "(())()\n",
      "(()())\n",
      "((()))\n"
     ]
    }
   ],
   "source": [
    "\n",
    "def print_paranthesis(output, opens, closes, n, position):\n",
    "    if closes == n:\n",
    "        for item in output:\n",
    "            print(item, end='')\n",
    "        print()\n",
    "        return\n",
    "    else:\n",
    "        if opens > closes:\n",
    "            output[position] = ')'\n",
    "            print_paranthesis(output, opens, closes+1, n , position+1)\n",
    "        if opens < n:\n",
    "            output[position] = '('\n",
    "            print_paranthesis(output, opens+1, closes, n, position+1)\n",
    "n = 3\n",
    "output =  [\"\"]*2*n\n",
    "print(output)\n",
    "print_paranthesis(output, 0,0, n, 0)\n"
   ]
  },
  {
   "cell_type": "markdown",
   "metadata": {},
   "source": [
    "## P10: Paint fill\n",
    "\n",
    "Implement the \"paint fill\" function that one might see on many image editting program. That is, given a screen (represented by 2D array of colors), a point and a new color, fill in the surrounding area until the color changes from the original color."
   ]
  },
  {
   "cell_type": "code",
   "execution_count": null,
   "metadata": {},
   "outputs": [],
   "source": []
  },
  {
   "cell_type": "markdown",
   "metadata": {},
   "source": [
    "## P11: Coins\n",
    "\n",
    "Given a number of infinite number of quarters (25cents), dimes(10cents), nickels(5 cents) and pennies (1cent), write a code to calculate the number of ways of representing n cents."
   ]
  },
  {
   "cell_type": "code",
   "execution_count": 66,
   "metadata": {},
   "outputs": [
    {
     "name": "stdout",
     "output_type": "stream",
     "text": [
      "5 0\n",
      "5 1\n",
      "5 2\n",
      "0 2\n"
     ]
    },
    {
     "data": {
      "text/plain": [
       "2"
      ]
     },
     "execution_count": 66,
     "metadata": {},
     "output_type": "execute_result"
    }
   ],
   "source": [
    "all_coins = [25, 10, 5, 1]\n",
    "def coins(amount, coin_idx):\n",
    "    if amount < 0:\n",
    "        return 0\n",
    "    if coin_idx == 3:\n",
    "        return 1\n",
    "    print(amount, coin_idx)\n",
    "    subtraction = coins(amount-all_coins[coin_idx], coin_idx)\n",
    "    move_next = coins(amount, coin_idx+1)\n",
    "    return subtraction+move_next\n",
    "\n",
    "coins(5, 0)"
   ]
  },
  {
   "cell_type": "markdown",
   "metadata": {},
   "source": [
    "## P12: Eight of Queens\n",
    "\n",
    "Write an algorithm to print all ways of arranging eight queens n an 8x8 chess board so that none of them share the same row, column, or diagonal. In this case, \"diagonal\" means all diagonals not just the 2 that bisect the board"
   ]
  },
  {
   "cell_type": "code",
   "execution_count": 95,
   "metadata": {},
   "outputs": [
    {
     "name": "stdout",
     "output_type": "stream",
     "text": [
      "[1, 3, 0, 2]\n",
      "[2, 0, 3, 1]\n"
     ]
    }
   ],
   "source": [
    "# baord is a list of rows with occupied columns \n",
    "def queens(n, board):\n",
    "    if len(board) == n:\n",
    "        print(board)\n",
    "        return\n",
    "    for col in range(n):\n",
    "        if is_safe(col, board):\n",
    "            new_board = board[:]\n",
    "            new_board.append(col)\n",
    "            queens(n, new_board)\n",
    "        \n",
    "def is_safe(new_column, occupied_columns):\n",
    "    \n",
    "    if new_column in occupied_columns:\n",
    "        return False\n",
    "    new_row = len(occupied_columns)\n",
    "    for row, col in enumerate(occupied_columns):\n",
    "        if  new_row - row == abs(new_column-col):\n",
    "            return False\n",
    "    return True\n",
    "\n",
    "board = []\n",
    "queens(4, board)\n"
   ]
  },
  {
   "cell_type": "markdown",
   "metadata": {},
   "source": [
    "## P13: Stack of Boxes\n",
    "\n",
    "You have stack of n boxes, with width wi and height hi and depth of di. The boxes cannot be rotated and can onyl be stacked on top of one another if each box in the stack is strictly larger than the box above it in width, height and depth. Implement a method to compare the height of the tallest possible stack. The height of a stack is the sum of the heights of each box."
   ]
  },
  {
   "cell_type": "code",
   "execution_count": null,
   "metadata": {},
   "outputs": [],
   "source": []
  },
  {
   "cell_type": "markdown",
   "metadata": {},
   "source": [
    "## P14: Boolean Evaluation\n",
    "\n",
    "Given a boolean expression xonsisting of symbols 0 (false), 1(true), & (AND), | (OR), ^ (XOR) and a desired boolean result value `result`, implement a function to count the number of ways of parenthesizing the expression such that it evaluates to result.\n",
    "\n",
    "Example: \n",
    "\n",
    "countEval(\"1^0|0|1\", false) -> 2\n",
    "\n",
    "countEval(\"0&0&0&0&1^1|0\", true) -> 10"
   ]
  },
  {
   "cell_type": "code",
   "execution_count": null,
   "metadata": {},
   "outputs": [],
   "source": []
  }
 ],
 "metadata": {
  "kernelspec": {
   "display_name": "Python 3",
   "language": "python",
   "name": "python3"
  },
  "language_info": {
   "codemirror_mode": {
    "name": "ipython",
    "version": 3
   },
   "file_extension": ".py",
   "mimetype": "text/x-python",
   "name": "python",
   "nbconvert_exporter": "python",
   "pygments_lexer": "ipython3",
   "version": "3.6.8"
  }
 },
 "nbformat": 4,
 "nbformat_minor": 2
}
