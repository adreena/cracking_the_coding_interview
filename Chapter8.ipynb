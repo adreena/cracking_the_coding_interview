{
 "cells": [
  {
   "cell_type": "markdown",
   "metadata": {},
   "source": [
    "## P1: Triple Step\n",
    "\n",
    "A child is running up a staircase with n steps and can hop either 1 step, 2 step or 2 steps at a time. Implement a method to count how many possible ways the child can run up the stairs"
   ]
  },
  {
   "cell_type": "code",
   "execution_count": null,
   "metadata": {},
   "outputs": [],
   "source": []
  },
  {
   "cell_type": "markdown",
   "metadata": {},
   "source": [
    "## P2: Robot in a grid\n",
    "\n",
    "Imagine a robot sitting on the upper left corner of a grid with r rows and c columns. the robot can only move in 2 directions, right and down, but sertain cells are \"off limits\" such that the robot cannot step on them. Design an algorithm to find a path for the robot from the top to the bottom right."
   ]
  },
  {
   "cell_type": "code",
   "execution_count": null,
   "metadata": {},
   "outputs": [],
   "source": []
  },
  {
   "cell_type": "markdown",
   "metadata": {},
   "source": [
    "## P3: Magic Index\n",
    "\n",
    "A magic index in an array A[0...n-1] is defined to be an index such that A[i]=i. Given a sorted array of distinct integers, write a method to find a magic index, if one exists, in array A. (What if values are not distinct?)"
   ]
  },
  {
   "cell_type": "code",
   "execution_count": null,
   "metadata": {},
   "outputs": [],
   "source": []
  },
  {
   "cell_type": "markdown",
   "metadata": {},
   "source": [
    "## P4: Power Set\n",
    "\n",
    "Write a method to return all subsets of a set"
   ]
  },
  {
   "cell_type": "code",
   "execution_count": null,
   "metadata": {},
   "outputs": [],
   "source": []
  },
  {
   "cell_type": "markdown",
   "metadata": {},
   "source": [
    "## P5: Recursive Multiply\n",
    "\n",
    "Write a recursive function to multiply 2 numbers without using the * operator. You can use addition, subtraction and bit shifting, but you should minimize the number of those operations."
   ]
  },
  {
   "cell_type": "code",
   "execution_count": null,
   "metadata": {},
   "outputs": [],
   "source": []
  },
  {
   "cell_type": "markdown",
   "metadata": {},
   "source": [
    "## P6: Tower of Hanoi\n",
    "\n",
    "In the classic problem of the Towers of Hanoi, you have 3 towers and N disks of different sizes which can slide onto any tower. The puzzle starts with disks sorted in ascending order of size from top to bottom (i.e. each disk sits on top of an even larger one). You have the following constraints:\n",
    "* Only one disk can be moved at a time\n",
    "* A disk is slid off the top of one tower onto the next tower\n",
    "* A disk can only be placed on top of a larger dist\n",
    "\n",
    "Write a program to move the disks from the 1st tower to the last using stacks"
   ]
  },
  {
   "cell_type": "code",
   "execution_count": null,
   "metadata": {},
   "outputs": [],
   "source": []
  },
  {
   "cell_type": "markdown",
   "metadata": {},
   "source": [
    "## P7: Permutations without Dups\n",
    "\n",
    "Write a method to compute all permutations of a string of unique characters"
   ]
  },
  {
   "cell_type": "code",
   "execution_count": null,
   "metadata": {},
   "outputs": [],
   "source": []
  },
  {
   "cell_type": "markdown",
   "metadata": {},
   "source": [
    "## P8: Permutations with Dups\n",
    "\n",
    "Write a method to compute all permutations of a string whose characters are not necessarily unique. The list of permutations should not have duplicates."
   ]
  },
  {
   "cell_type": "code",
   "execution_count": null,
   "metadata": {},
   "outputs": [],
   "source": []
  },
  {
   "cell_type": "markdown",
   "metadata": {},
   "source": [
    "## P9: Parens\n",
    "\n",
    "Implement an algorithm to print all valid of n pairs of parantheses.\n",
    "\n",
    "Input: 3\n",
    "\n",
    "Output: ((())), (()()), (())(), ()(()), ()()()"
   ]
  },
  {
   "cell_type": "code",
   "execution_count": null,
   "metadata": {},
   "outputs": [],
   "source": []
  },
  {
   "cell_type": "markdown",
   "metadata": {},
   "source": [
    "## P10: Paint fill\n",
    "\n",
    "Implement the \"paint fill\" function that one might see on many image editting program. That is, given a screen (represented by 2D array of colors), a point and a new color, fill in the surrounding area until the color changes from the original color."
   ]
  },
  {
   "cell_type": "code",
   "execution_count": null,
   "metadata": {},
   "outputs": [],
   "source": []
  },
  {
   "cell_type": "markdown",
   "metadata": {},
   "source": [
    "## P11: Coins\n",
    "\n",
    "Given a number of infinite number of quarters (25cents), dimes(10cents), nickels(5 cents) and pennies (1cent), write a code to calculate the number of ways of representing n cents."
   ]
  },
  {
   "cell_type": "code",
   "execution_count": null,
   "metadata": {},
   "outputs": [],
   "source": []
  },
  {
   "cell_type": "markdown",
   "metadata": {},
   "source": [
    "## P12: Eight of Queens\n",
    "\n",
    "Write an algorithm to print all ways of arranging eight queens n an 8x8 chess board so that none of them share the same row, column, or diagonal. In this case, \"diagonal\" means all diagonals not just the 2 that bisect the board"
   ]
  },
  {
   "cell_type": "code",
   "execution_count": null,
   "metadata": {},
   "outputs": [],
   "source": []
  },
  {
   "cell_type": "markdown",
   "metadata": {},
   "source": [
    "## P13: Stack of Boxes\n",
    "\n",
    "You have stack of n boxes, with width wi and height hi and depth of di. The boxes cannot be rotated and can onyl be stacked on top of one another if each box in the stack is strictly larger than the box above it in width, height and depth. Implement a method to compare the height of the tallest possible stack. The height of a stack is the sum of the heights of each box."
   ]
  },
  {
   "cell_type": "code",
   "execution_count": null,
   "metadata": {},
   "outputs": [],
   "source": []
  },
  {
   "cell_type": "markdown",
   "metadata": {},
   "source": [
    "## P14: Boolean Evaluation\n",
    "\n",
    "Given a boolean expression xonsisting of symbols 0 (false), 1(true), & (AND), | (OR), ^ (XOR) and a desired boolean result value `result`, implement a function to count the number of ways of parenthesizing the expression such that it evaluates to result.\n",
    "\n",
    "Example: \n",
    "\n",
    "countEval(\"1^0|0|1\", false) -> 2\n",
    "\n",
    "countEval(\"0&0&0&0&1^1|0\", true) -> 10"
   ]
  },
  {
   "cell_type": "code",
   "execution_count": null,
   "metadata": {},
   "outputs": [],
   "source": []
  }
 ],
 "metadata": {
  "kernelspec": {
   "display_name": "Python 3",
   "language": "python",
   "name": "python3"
  },
  "language_info": {
   "codemirror_mode": {
    "name": "ipython",
    "version": 3
   },
   "file_extension": ".py",
   "mimetype": "text/x-python",
   "name": "python",
   "nbconvert_exporter": "python",
   "pygments_lexer": "ipython3",
   "version": "3.6.8"
  }
 },
 "nbformat": 4,
 "nbformat_minor": 2
}
