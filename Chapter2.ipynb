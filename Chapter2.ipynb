{
 "cells": [
  {
   "cell_type": "markdown",
   "metadata": {},
   "source": [
    "## P1: Remove Dups\n",
    "\n",
    "write code to remove duplicates from an unsorted linked list (With/Without Buffer)"
   ]
  },
  {
   "cell_type": "code",
   "execution_count": 2,
   "metadata": {},
   "outputs": [],
   "source": [
    "def remove_dups(linked_list):\n",
    "    # a->b->c->a->a->b->d\n",
    "    counts = []\n",
    "    item = linked_list.head\n",
    "    prev_node = item\n",
    "    while item.next is not None:\n",
    "        if item.value in counts.keys():\n",
    "            prev_node.next = item.next\n",
    "        else:\n",
    "            counts.append(item.value)\n",
    "        prev_node = item\n",
    "        item = item.next"
   ]
  },
  {
   "cell_type": "markdown",
   "metadata": {},
   "source": [
    "## P2: Return kth to last\n",
    "    \n",
    "implement an algorithm to find the kth to last element of a singly linked list"
   ]
  },
  {
   "cell_type": "code",
   "execution_count": 3,
   "metadata": {},
   "outputs": [],
   "source": [
    "def return_kth_last(linked_list, k):\n",
    "    item = linked_list.head\n",
    "    kth = item\n",
    "    count = 0\n",
    "    while item.next is not None:\n",
    "        count+=1\n",
    "        if count == k:\n",
    "            kth = item.next\n",
    "        item = item.next\n",
    "    return kth"
   ]
  },
  {
   "cell_type": "markdown",
   "metadata": {},
   "source": [
    "## P3: Delete Middle None\n",
    "\n",
    "implement an algorithm to delete a node in middle of singly linked list\n",
    "\n",
    "Example: a->b->c->d->e : a->b->d->e"
   ]
  },
  {
   "cell_type": "code",
   "execution_count": null,
   "metadata": {},
   "outputs": [],
   "source": []
  },
  {
   "cell_type": "markdown",
   "metadata": {},
   "source": [
    "## P4: Partition\n",
    "\n",
    "Write a code to partition a linked list around a value x, such that all nodes less than x come before all nodes greater than or equal to x. if x is contained within the list, the values of x only need to be after the elements less than x.\n",
    "\n",
    "Example: 3->5->8->5->10->2->1 (parition 5) 3->1->2->10->5->5->8"
   ]
  },
  {
   "cell_type": "code",
   "execution_count": null,
   "metadata": {},
   "outputs": [],
   "source": []
  },
  {
   "cell_type": "markdown",
   "metadata": {},
   "source": [
    "## P5: Sum lists\n",
    "\n",
    "you have 2 numbers represented by a linked list, where each node contains single digit. the digits are sorted in reverse order, such that the 1's digit is at the head of the list. Write a function that adds the two numbers and returns sums as a linked list.\n",
    "\n",
    "Example: ( 7->1->6) + (5->9->2) that is 617 and 295 : 2->1->9 that is 912"
   ]
  },
  {
   "cell_type": "code",
   "execution_count": null,
   "metadata": {},
   "outputs": [],
   "source": []
  },
  {
   "cell_type": "markdown",
   "metadata": {},
   "source": [
    "## P6 Palindrome\n",
    "\n",
    "Implmenet a function to check if a linked list is a palindrome"
   ]
  },
  {
   "cell_type": "code",
   "execution_count": null,
   "metadata": {},
   "outputs": [],
   "source": []
  },
  {
   "cell_type": "markdown",
   "metadata": {},
   "source": [
    "## P7: Intersection\n",
    "\n",
    "Given 2 singly linked lists, determine if the two lists intersect. Return the intersecting node. Note the intersection is defined based on reference, not the value. That is, if the kth node of the first linked list is the exact same node as jth node of the second list they are intersecting.\n"
   ]
  },
  {
   "cell_type": "code",
   "execution_count": null,
   "metadata": {},
   "outputs": [],
   "source": []
  },
  {
   "cell_type": "markdown",
   "metadata": {},
   "source": [
    "## P8: Loop Detection\n",
    "\n",
    "Given a circular linked list, implement an algorithm that returns the node at the beginning of the loop.\n",
    "\n",
    "Definition: circular linked list is a linked list in which a node's next pointer points to an earlier node, so as to make a loop in linked list.\n",
    "\n",
    "Example: A->B->C->D->E->C : output: C "
   ]
  },
  {
   "cell_type": "code",
   "execution_count": null,
   "metadata": {},
   "outputs": [],
   "source": []
  }
 ],
 "metadata": {
  "kernelspec": {
   "display_name": "Python 3",
   "language": "python",
   "name": "python3"
  },
  "language_info": {
   "codemirror_mode": {
    "name": "ipython",
    "version": 3
   },
   "file_extension": ".py",
   "mimetype": "text/x-python",
   "name": "python",
   "nbconvert_exporter": "python",
   "pygments_lexer": "ipython3",
   "version": "3.6.8"
  }
 },
 "nbformat": 4,
 "nbformat_minor": 2
}
