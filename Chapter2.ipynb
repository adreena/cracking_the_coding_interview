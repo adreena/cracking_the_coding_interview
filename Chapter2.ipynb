{
 "cells": [
  {
   "cell_type": "markdown",
   "metadata": {},
   "source": [
    "## P1: Remove Dups\n",
    "\n",
    "write code to remove duplicates from an unsorted linked list (With/Without Buffer)"
   ]
  },
  {
   "cell_type": "code",
   "execution_count": 2,
   "metadata": {},
   "outputs": [],
   "source": [
    "def remove_dups(linked_list):\n",
    "    # a->b->c->a->a->b->d\n",
    "    counts = []\n",
    "    item = linked_list.head\n",
    "    prev_node = item\n",
    "    while item.next is not None:\n",
    "        if item.value in counts.keys():\n",
    "            prev_node.next = item.next\n",
    "        else:\n",
    "            counts.append(item.value)\n",
    "        prev_node = item\n",
    "        item = item.next"
   ]
  },
  {
   "cell_type": "markdown",
   "metadata": {},
   "source": [
    "## P2: Return kth to last\n",
    "    \n",
    "implement an algorithm to find the kth to last element of a singly linked list"
   ]
  },
  {
   "cell_type": "code",
   "execution_count": 6,
   "metadata": {},
   "outputs": [],
   "source": [
    "def return_kth_last(linked_list, k):\n",
    "    node = linked_list.head\n",
    "    kth = None\n",
    "    count = 0\n",
    "    while node.next is not None:\n",
    "        count+=1\n",
    "        if count == k:\n",
    "            kth = linked_list.head\n",
    "        elif count>k:\n",
    "            kth = kth.next\n",
    "        node = node.next\n",
    "    return kth"
   ]
  },
  {
   "cell_type": "markdown",
   "metadata": {},
   "source": [
    "## P3: Delete Middle Node\n",
    "\n",
    "implement an algorithm to delete a node in middle of singly linked list, given only access to that node.\n",
    "\n",
    "Example: a->b->c->d->e : a->b->d->e"
   ]
  },
  {
   "cell_type": "code",
   "execution_count": 5,
   "metadata": {},
   "outputs": [],
   "source": [
    "def delete_mid_node(mid_node):\n",
    "    if mid_node is None:\n",
    "        return False\n",
    "    mid_node.data = mid_node.next.data\n",
    "    mid_node.next = mid_node.next.next\n",
    "    return True"
   ]
  },
  {
   "cell_type": "markdown",
   "metadata": {},
   "source": [
    "## P4: Partition\n",
    "\n",
    "Write a code to partition a linked list around a value x, such that all nodes less than x come before all nodes greater than or equal to x. if x is contained within the list, the values of x only need to be after the elements less than x.\n",
    "\n",
    "Example: 3->5->8->5->10->2->1 (parition 5) 3->1->2->10->5->5->8"
   ]
  },
  {
   "cell_type": "code",
   "execution_count": null,
   "metadata": {},
   "outputs": [],
   "source": [
    "def parition(linked_list, node_partition):\n",
    "    node = linked_list.head\n",
    "    head = node\n",
    "    tail = node\n",
    "    while nod.next is not None:\n",
    "        if node.data < head.data:\n",
    "            node.next = head\n",
    "            head = node\n",
    "        else:\n",
    "            tail.next = node\n",
    "            tail = node\n",
    "        node = node.next\n",
    "    tail.next = null\n",
    "    return head"
   ]
  },
  {
   "cell_type": "markdown",
   "metadata": {},
   "source": [
    "## P5: Sum lists\n",
    "\n",
    "you have 2 numbers represented by a linked list, where each node contains single digit. the digits are sorted in reverse order, such that the 1's digit is at the head of the list. Write a function that adds the two numbers and returns sums as a linked list.\n",
    "\n",
    "Example: ( 7->1->6) + (5->9->2) that is 617 and 295 : 2->1->9 that is 912"
   ]
  },
  {
   "cell_type": "code",
   "execution_count": 15,
   "metadata": {},
   "outputs": [],
   "source": [
    "def process_node(node):\n",
    "    done = False\n",
    "    if node is None:\n",
    "        num = 0\n",
    "        done = True\n",
    "    else:\n",
    "        num = node.data\n",
    "        node = node.next\n",
    "    return num, node, done\n",
    "\n",
    "def sum_lists(list1, list2):\n",
    "    node1 = list1.head\n",
    "    node2 = list2.head\n",
    "    num1 = 0\n",
    "    num2 = 0\n",
    "    carry = 0\n",
    "    node = None\n",
    "    done1 = False\n",
    "    done2 = False\n",
    "    while not (done1 & done2) :\n",
    "        num1, node1, done1 = process_node(node1)\n",
    "        num2, node2, done2 = process_node(node2)    \n",
    "        \n",
    "        temp = num1 + num2 + carry\n",
    "        carry = temp / 10\n",
    "        new_node = Node(temp%10)\n",
    "        if node is None:\n",
    "            node = new_node\n",
    "        else:\n",
    "            node.next = new_node\n",
    "            node = new_node\n",
    "        \n",
    "        \n",
    "    return node"
   ]
  },
  {
   "cell_type": "markdown",
   "metadata": {},
   "source": [
    "## P6 Palindrome\n",
    "\n",
    "Implmenet a function to check if a linked list is a palindrome"
   ]
  },
  {
   "cell_type": "code",
   "execution_count": 22,
   "metadata": {},
   "outputs": [
    {
     "name": "stdout",
     "output_type": "stream",
     "text": [
      "True\n"
     ]
    }
   ],
   "source": [
    "class Node:\n",
    "    def __init__(self, data):\n",
    "        self.data = data\n",
    "        self.next = None\n",
    "    \n",
    "class Stack:\n",
    "    def __init__(self):\n",
    "        self.top = None\n",
    "    \n",
    "    def is_empty(self):\n",
    "        if self.top is None:\n",
    "            return True\n",
    "        return False\n",
    "    \n",
    "    def peek(self):\n",
    "        return self.top.data\n",
    "    \n",
    "    def pop(self):\n",
    "        if self.is_empty():\n",
    "            return None\n",
    "        data = self.top.data\n",
    "        self.top = self.top.next\n",
    "        return data\n",
    "\n",
    "    def push(self, data):\n",
    "        new_node = Node(data)\n",
    "        if self.is_empty():\n",
    "            self.top = new_node\n",
    "        else:\n",
    "            new_node.next = self.top\n",
    "            self.top = new_node\n",
    "        \n",
    "        \n",
    "def is_palindrome(list_head):\n",
    "    temp_stack = Stack()\n",
    "    slow_itr = list_head\n",
    "    fast_itr = list_head\n",
    "    temp_stack.push(slow_itr.data)\n",
    "    while fast_itr.next is not None and fast_itr.next.next is not None:\n",
    "        slow_itr = slow_itr.next\n",
    "        fast_itr = fast_itr.next.next\n",
    "        temp_stack.push(slow_itr.data)\n",
    "    if fast_itr.next is None: # 1-2-3-2-1 1-2-3-3-2-1\n",
    "        temp_stack.pop()\n",
    "    slow_itr = slow_itr.next\n",
    "    match = True\n",
    "    while not temp_stack.is_empty() and match:\n",
    "        if temp_stack.peek() == slow_itr.data:\n",
    "            temp_stack.pop()\n",
    "            slow_itr=slow_itr.next\n",
    "        else:\n",
    "            match = False\n",
    "    return match\n",
    "    \n",
    "test = Node(1)\n",
    "head = test\n",
    "test.next = Node(2)\n",
    "test = test.next\n",
    "test.next = Node(3)\n",
    "test = test.next\n",
    "test.next = Node(3)\n",
    "test = test.next\n",
    "test.next = Node(2)\n",
    "test = test.next\n",
    "test.next = Node(1)\n",
    "test=test.next\n",
    "\n",
    "print(is_palindrome(head))"
   ]
  },
  {
   "cell_type": "markdown",
   "metadata": {},
   "source": [
    "## P7: Intersection\n",
    "\n",
    "Given 2 singly linked lists, determine if the two lists intersect. Return the intersecting node. Note the intersection is defined based on reference, not the value. That is, if the kth node of the first linked list is the exact same node as jth node of the second list they are intersecting.\n"
   ]
  },
  {
   "cell_type": "code",
   "execution_count": null,
   "metadata": {},
   "outputs": [],
   "source": []
  },
  {
   "cell_type": "markdown",
   "metadata": {},
   "source": [
    "## P8: Loop Detection\n",
    "\n",
    "Given a circular linked list, implement an algorithm that returns the node at the beginning of the loop.\n",
    "\n",
    "Definition: circular linked list is a linked list in which a node's next pointer points to an earlier node, so as to make a loop in linked list.\n",
    "\n",
    "Example: A->B->C->D->E->C : output: C "
   ]
  },
  {
   "cell_type": "code",
   "execution_count": null,
   "metadata": {},
   "outputs": [],
   "source": []
  }
 ],
 "metadata": {
  "kernelspec": {
   "display_name": "Python 3",
   "language": "python",
   "name": "python3"
  },
  "language_info": {
   "codemirror_mode": {
    "name": "ipython",
    "version": 3
   },
   "file_extension": ".py",
   "mimetype": "text/x-python",
   "name": "python",
   "nbconvert_exporter": "python",
   "pygments_lexer": "ipython3",
   "version": "3.6.8"
  }
 },
 "nbformat": 4,
 "nbformat_minor": 2
}
