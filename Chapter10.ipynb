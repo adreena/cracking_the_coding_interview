{
 "cells": [
  {
   "cell_type": "markdown",
   "metadata": {},
   "source": [
    "## P1: Sorted Merge\n",
    "\n",
    "you are given 2 sorted arrays, A and B, where A has large enough buffer at the end to hold B. Write a method to merge B into A sorted."
   ]
  },
  {
   "cell_type": "code",
   "execution_count": null,
   "metadata": {},
   "outputs": [],
   "source": []
  },
  {
   "cell_type": "markdown",
   "metadata": {},
   "source": [
    "## P2: Group Anagram\n",
    "\n",
    "Write a method to sort an array of strings so that all the anagrams are next to each other"
   ]
  },
  {
   "cell_type": "code",
   "execution_count": null,
   "metadata": {},
   "outputs": [],
   "source": []
  },
  {
   "cell_type": "markdown",
   "metadata": {},
   "source": [
    "## P3: Search in Rotated Array\n",
    "\n",
    "given a sorted array of n integers that has been rotated an unknown number of times write a code to find an element in the array. You may assume that the array was originally sorted in increasing order.\n",
    "\n",
    "Example:\n",
    "\n",
    "Input: find 5 in [15, 16, 19, 20, 1, 3, 4, 5, 7, 10, 14]\n",
    "\n",
    "Output: 8 (index of 5 in the array)"
   ]
  },
  {
   "cell_type": "code",
   "execution_count": null,
   "metadata": {},
   "outputs": [],
   "source": []
  },
  {
   "cell_type": "markdown",
   "metadata": {},
   "source": [
    "## P4: Sorted Search, No size\n",
    "\n",
    "you are given an array-like data structure Listy which lacks a size method. It does, however, an elementAt(i) method that returns the element  at index i in O(a) time. If i is beyond the bounds of the data structure, it returns -1. (For this reason, the data structure only supports positive integers). Given a Listy which contains sorted, positive integers find the index at which an element x occurs. If x occurs multiple times, you may return any index."
   ]
  },
  {
   "cell_type": "code",
   "execution_count": null,
   "metadata": {},
   "outputs": [],
   "source": []
  },
  {
   "cell_type": "markdown",
   "metadata": {},
   "source": [
    "## P5: Sparce Search\n",
    "\n",
    "Given a sorted array of strings that is interspersed with empty strings, write x method to find the location of a given string.\n",
    "\n",
    "Input: ball, {\"at\", \"\", \"\", \"\", \"ball\", \"\", \"\", \"car\", \"\", \"\", \"dad\", \"\", \"\"}\n",
    "\n",
    "output: 4"
   ]
  },
  {
   "cell_type": "code",
   "execution_count": null,
   "metadata": {},
   "outputs": [],
   "source": []
  },
  {
   "cell_type": "markdown",
   "metadata": {},
   "source": [
    "## P6: Sort Big File\n",
    "\n",
    "Imagine you have 20GB file with one string per line. Explain how you would sort the file."
   ]
  },
  {
   "cell_type": "code",
   "execution_count": null,
   "metadata": {},
   "outputs": [],
   "source": []
  },
  {
   "cell_type": "markdown",
   "metadata": {},
   "source": [
    "## P7: Missing Int\n",
    "\n",
    "Given an input file with 4 billion non-negative integers, providean algorithm to generate an integer that is not contained in the file. Assume you have 1 GB memory available for this task\n",
    "\n",
    "What if you only have 10MB memory? Assume that all the values are distinct and we now have no more than 1 billion non-negative integers."
   ]
  },
  {
   "cell_type": "code",
   "execution_count": null,
   "metadata": {},
   "outputs": [],
   "source": []
  },
  {
   "cell_type": "markdown",
   "metadata": {},
   "source": [
    "## P8: Find duplicates\n",
    "\n",
    "you have an array with all numbers from 1 to N, where N is at most 32,000. The array may have duplicate entries and you do not know what N is, With only 4 Kb of memory available, how would you print all duplicate elements in the array?"
   ]
  },
  {
   "cell_type": "code",
   "execution_count": null,
   "metadata": {},
   "outputs": [],
   "source": []
  },
  {
   "cell_type": "markdown",
   "metadata": {},
   "source": [
    "## P9: Sorted Matrix Search\n",
    "\n",
    "Given an MxN matrix in which each row and each column is sorted in ascending order, write a method to find an element."
   ]
  },
  {
   "cell_type": "code",
   "execution_count": null,
   "metadata": {},
   "outputs": [],
   "source": []
  },
  {
   "cell_type": "markdown",
   "metadata": {},
   "source": [
    "## P10 Rank from Stream\n",
    "\n",
    "Imagine you are reading in a stream of integers. Periodically, you wish to be able to look up the rank of a number x ( the number of values less than or equal to x). Implement the data structures and algorithms to support these operations. That is, implement track(int x), which is called when each number is generated, and the method getRankOfNumber(int x), which returns the number of values less than or equal to x (not including x itself)\n",
    "\n",
    "Example:\n",
    "\n",
    "Stream (in order of appearance): 5, 1, 4, 4, 5, 9, 7, 13, 3\n",
    "\n",
    "getRankOfNumber(1) = 0\n",
    "\n",
    "getRankOfNumber(3) = 1\n",
    "\n",
    "getRankOfNumber(4) = 3"
   ]
  },
  {
   "cell_type": "code",
   "execution_count": null,
   "metadata": {},
   "outputs": [],
   "source": []
  },
  {
   "cell_type": "markdown",
   "metadata": {},
   "source": [
    "## P11: Peaks and Valleys\n",
    "\n",
    "In an array of integers, a \"peak\" is an element which is greater than or equal to the adjacent integers and a \"valley\" is an element which is less than or equal to the adjacent integers.  For example, in the array {5,8,6,2,3,4,6}, {8,6} are peaks and {5,2} are valleys. Given an array of integers, sort the array into an alternating sequence of peaks and valleys.\n",
    "\n",
    "Input: {5, 3, 1, 2, 3}\n",
    "\n",
    "Output: {5, 1, 3, 2, 3}"
   ]
  },
  {
   "cell_type": "code",
   "execution_count": null,
   "metadata": {},
   "outputs": [],
   "source": []
  }
 ],
 "metadata": {
  "kernelspec": {
   "display_name": "Python 3",
   "language": "python",
   "name": "python3"
  },
  "language_info": {
   "codemirror_mode": {
    "name": "ipython",
    "version": 3
   },
   "file_extension": ".py",
   "mimetype": "text/x-python",
   "name": "python",
   "nbconvert_exporter": "python",
   "pygments_lexer": "ipython3",
   "version": "3.6.8"
  }
 },
 "nbformat": 4,
 "nbformat_minor": 2
}
