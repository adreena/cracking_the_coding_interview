{
 "cells": [
  {
   "cell_type": "markdown",
   "metadata": {},
   "source": [
    "# Chapter 1"
   ]
  },
  {
   "cell_type": "markdown",
   "metadata": {},
   "source": [
    "## Problem 01 - Is Unique \n",
    "Problem Statement:\n",
    "\n",
    "Implement an algorithm to determine if a string has all unique characters.\n",
    "What if you cannot use additional data structures?\n",
    "\n",
    "Example:\n",
    "\"aalex\" -> False"
   ]
  },
  {
   "cell_type": "code",
   "execution_count": 3,
   "metadata": {},
   "outputs": [
    {
     "name": "stdout",
     "output_type": "stream",
     "text": [
      "False\n",
      "True\n"
     ]
    }
   ],
   "source": [
    "def is_unique(input_str):\n",
    "    chars = []\n",
    "    for char in input_str:\n",
    "        if char in chars:\n",
    "            return False\n",
    "        chars.append(char)\n",
    "    return True\n",
    "\n",
    "print(is_unique('abbbbba'))\n",
    "print(is_unique('abc'))"
   ]
  },
  {
   "cell_type": "markdown",
   "metadata": {},
   "source": [
    "## Problem 02 - Check Permutation \n",
    "\n",
    "Problem Statement:\n",
    "    \n",
    "Given two strings, write a method to decide if one is a permutation of the\n",
    "other.\n",
    "\n",
    "Example:\n",
    "(\"alex\", \"lexa\") -> True"
   ]
  },
  {
   "cell_type": "code",
   "execution_count": 8,
   "metadata": {},
   "outputs": [
    {
     "name": "stdout",
     "output_type": "stream",
     "text": [
      "True\n",
      "False\n"
     ]
    }
   ],
   "source": [
    "def check_perm(str1, str2):\n",
    "    if len(str1) != len(str2):\n",
    "        return False\n",
    "    counts = [0]*128\n",
    "    for char in str1:\n",
    "        counts[ord(char)]+=1\n",
    "    for char in str2:\n",
    "        counts[ord(char)] -=1\n",
    "        if counts[ord(char)] < 0:\n",
    "            return False\n",
    "    return True\n",
    "print(check_perm(\"alex\", \"lexa\"))\n",
    "print(check_perm(\"alex\", \"lixa\"))"
   ]
  },
  {
   "cell_type": "markdown",
   "metadata": {},
   "source": [
    "## Problem 03 - URLify \n",
    "\n",
    "Problem Statement:\n",
    "\n",
    "Write a method to replace all spaces in a string with '%20: You may assume that the string\n",
    "has sufficient space at the end to hold the additional characters, and that you are given the\n",
    "\"true\" length of the string.\n",
    "\n",
    "Example:\n",
    "'Mr. John Smith' -> 'Mr.%20John%20Smith%20'"
   ]
  },
  {
   "cell_type": "code",
   "execution_count": 23,
   "metadata": {},
   "outputs": [
    {
     "name": "stdout",
     "output_type": "stream",
     "text": [
      "['M', 'r', '.', '%', '2', '0', 'J', 'o', 'h', 'n', '%', '2', '0', 'S', 'm', 'i', 't', 'h']\n"
     ]
    }
   ],
   "source": [
    "def URLify(input_str):\n",
    "    new_length = 0\n",
    "    for char in input_str:\n",
    "        if char == ' ':\n",
    "            new_length += 3\n",
    "        else:\n",
    "            new_length +=1\n",
    "    writer_itr = new_length -1\n",
    "    url = ['']*new_length\n",
    "    for i in reversed(range(len(input_str))): #'11 23 22 '\n",
    "        if input_str[i] == ' ': #%20\n",
    "            url[writer_itr-2 : writer_itr+1] = '%20' \n",
    "            writer_itr -=3\n",
    "        else:\n",
    "            url[writer_itr] = input_str[i]\n",
    "            writer_itr -= 1\n",
    "    return url\n",
    "print(URLify('Mr. John Smith'))             "
   ]
  },
  {
   "cell_type": "markdown",
   "metadata": {},
   "source": [
    "## Problem 04 - Palindrome Permutation - CTCI 6th Edition page 91\n",
    "\n",
    "Problem Statement:\n",
    "\n",
    "Given a string, write a function to check if it is a permutation of a palindrome. A palindrome is a word or\n",
    "phrase that is the same forwards and backwards. A permutation is a rearrangement of letters. The palindrome does\n",
    "not need to be limited to just dictionary words.\n",
    "\n",
    "Example:\n",
    "\"tact coa\" -> True (permutations: \"tacocat\", \"atcocta\", etc.)"
   ]
  },
  {
   "cell_type": "code",
   "execution_count": 38,
   "metadata": {},
   "outputs": [
    {
     "name": "stdout",
     "output_type": "stream",
     "text": [
      "False\n"
     ]
    }
   ],
   "source": [
    "def is_palindrome_perm(input_str):\n",
    "    bits = [False]*128\n",
    "    for char in input_str:\n",
    "        if char != ' ':\n",
    "            bits[ord(char)]= not bits[ord(char)]\n",
    "    if sum(bits) > 1:\n",
    "        return False\n",
    "    return True\n",
    "\n",
    "print(is_palindrome_perm('tact coaa'))"
   ]
  },
  {
   "cell_type": "markdown",
   "metadata": {},
   "source": [
    "## Problem 05 - One Away - CTCI 6th Edition page 91\n",
    "\n",
    "Problem Statement:\n",
    "\n",
    "There are three types of edits that can be performed on strings:\n",
    "insert a character, remove a character, or replace a character.\n",
    "Given two strings, write a function to check if they are one edit (or zero edits) away.\n",
    "\n",
    "Example:\n",
    "\n",
    "pale, ple -> true\n",
    "pales, pale -> true\n",
    "pale, bale -> true\n",
    "pale, bae -> false"
   ]
  },
  {
   "cell_type": "code",
   "execution_count": 66,
   "metadata": {},
   "outputs": [
    {
     "name": "stdout",
     "output_type": "stream",
     "text": [
      "True\n",
      "False\n"
     ]
    }
   ],
   "source": [
    "def one_away(str1, str2):\n",
    "    count = 0\n",
    "    len1 = len(str1)\n",
    "    len2 = len(str2)\n",
    "    if abs(len1 - len2) > 1:\n",
    "        return False\n",
    "    \n",
    "    # search for removal:\n",
    "    itr1 = 0\n",
    "    itr2 = 0\n",
    "    if len1 != len2:\n",
    "        while itr1 < len1 and itr2 < len2:\n",
    "            if str1[itr1] != str2[itr2]:\n",
    "                count+=1\n",
    "                if count > 1:\n",
    "                    return False\n",
    "                if len1 > len2:\n",
    "                    itr1+=1\n",
    "                else:\n",
    "                    itr2+=1\n",
    "            else:\n",
    "                itr1+=1\n",
    "                itr2+=1\n",
    "    # search for replacement\n",
    "    else:\n",
    "        if str1[itr1] != str2[itr2]:\n",
    "            count+=1\n",
    "            if count > 1:\n",
    "                return False\n",
    "        itr1+=1\n",
    "        itr2+=1\n",
    "    return True\n",
    "print(one_away('pale', 'bale'))\n",
    "print(one_away('pale', 'bae'))"
   ]
  },
  {
   "cell_type": "markdown",
   "metadata": {},
   "source": [
    "## Problem 06 - String Compression - CTCI 6th Edition page 91\n",
    "\n",
    "Problem Statement:\n",
    "\n",
    "Implement a method to perform basic string compression using the counts of repeated characters. For example,\n",
    "the string aabcccccaaa would become a2b1c5a3. If the \"compressed\" string would not become smaller than the\n",
    "original string, your method should return the original string. You can assume the string has only uppercase\n",
    "and lowercase letters (a - z).\n",
    "\n",
    "Example:\n",
    "aabcccccaaa -> a2b1c5a3"
   ]
  },
  {
   "cell_type": "code",
   "execution_count": 82,
   "metadata": {},
   "outputs": [
    {
     "name": "stdout",
     "output_type": "stream",
     "text": [
      "a2b1c5a3 \n"
     ]
    }
   ],
   "source": [
    "def str_compression(input_str):\n",
    "    count = 1\n",
    "    output = input_str[0]\n",
    "    for itr in range(1,len(input_str)):\n",
    "        if input_str[itr] == input_str[itr-1]:\n",
    "            count+=1\n",
    "        else:\n",
    "            output+=str(count)\n",
    "            output+=input_str[itr]\n",
    "            count=1\n",
    "    return output\n",
    "print(str_compression('aabcccccaaa '))"
   ]
  },
  {
   "cell_type": "markdown",
   "metadata": {},
   "source": [
    "## Problem 07 - Rotate Matrix - CTCI 6th Edition page 91\n",
    "\n",
    "Problem Statement:\n",
    "\n",
    "Given an image represented by an NxN matrix, where each pixel in the image is 4 bytes,\n",
    "write a method to rotate the image by 90 degrees. Can you do this in place?\n",
    "\n",
    "Example:\n",
    "\n",
    "[1,2,3,       [7,4,1,\n",
    " 4,5,6,   ->   8,5,2,\n",
    " 7,8,9]        9,6,3]\n"
   ]
  },
  {
   "cell_type": "code",
   "execution_count": null,
   "metadata": {},
   "outputs": [],
   "source": []
  },
  {
   "cell_type": "markdown",
   "metadata": {},
   "source": [
    "## Problem 08 - Set Zero - CTCI 6th Edition page 91\n",
    "\n",
    "Problem Statement:\n",
    "\n",
    "Write an algorithm such that if an element in an MxN matrix is 0, its entire\n",
    "row and column are set to 0.\n",
    "\n",
    "Example:\n",
    "\n",
    "[1, 2, 0, 4,      [0, 0, 0, 0,\n",
    " 1, 2, 3, 4,  ->   0, 2, 0, 4,\n",
    " 0, 2, 3, 4]       0, 0, 0, 0]"
   ]
  },
  {
   "cell_type": "code",
   "execution_count": null,
   "metadata": {},
   "outputs": [],
   "source": []
  },
  {
   "cell_type": "markdown",
   "metadata": {},
   "source": [
    "## Problem 09 - String Rotation - CTCI 6th Edition page 91\n",
    "\n",
    "Problem Statement:\n",
    "\n",
    "Assume you have a method isSubstring() which checks if one word is a substring of\n",
    "another. Given two strings, s1 and s2, write code to check if s2 is a rotation of s1 using\n",
    "only one call to isSubstring().\n",
    "\n",
    "Example:\n",
    "stringRotation(\"waterbottle\", \"erbottlewat\")"
   ]
  },
  {
   "cell_type": "code",
   "execution_count": null,
   "metadata": {},
   "outputs": [],
   "source": []
  }
 ],
 "metadata": {
  "kernelspec": {
   "display_name": "Python 3",
   "language": "python",
   "name": "python3"
  },
  "language_info": {
   "codemirror_mode": {
    "name": "ipython",
    "version": 3
   },
   "file_extension": ".py",
   "mimetype": "text/x-python",
   "name": "python",
   "nbconvert_exporter": "python",
   "pygments_lexer": "ipython3",
   "version": "3.6.8"
  }
 },
 "nbformat": 4,
 "nbformat_minor": 2
}
